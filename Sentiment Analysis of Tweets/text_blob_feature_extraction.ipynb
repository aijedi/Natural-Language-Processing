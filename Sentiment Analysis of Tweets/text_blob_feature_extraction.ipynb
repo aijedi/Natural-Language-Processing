{
 "cells": [
  {
   "cell_type": "markdown",
   "metadata": {},
   "source": [
    "#### 2.2. Textblob NLP Feature Extraction"
   ]
  },
  {
   "cell_type": "code",
   "execution_count": 5,
   "metadata": {},
   "outputs": [],
   "source": [
    "from textblob import TextBlob\n",
    "import nltk\n",
    "#nltk.download('brown')"
   ]
  },
  {
   "cell_type": "code",
   "execution_count": 4,
   "metadata": {},
   "outputs": [],
   "source": [
    "def get_textblob_features(sentence):\n",
    "    \n",
    "    blob = TextBlob(sentence)\n",
    "    \n",
    "    textblob_dict = {}\n",
    "    \n",
    "    ## Number of noun phrases in the sentence\n",
    "    textblob_dict['Number of Noun Phrases'] = len(list(blob.noun_phrases))\n",
    "    \n",
    "    ## Number of POS tags in the sentence\n",
    "    textblob_dict['Number of POS tags'] = len(list(blob.pos_tags))\n",
    "    \n",
    "    ## Polarity of the sentence\n",
    "    textblob_dict['Sentence Polarity'] = blob.sentiment_assessments.polarity\n",
    "    \n",
    "    ## Polarity of the sentence\n",
    "    textblob_dict['Sentence Subjectivity'] = blob.sentiment_assessments.polarity\n",
    "    \n",
    "    ## Number of words in the processed sentence\n",
    "    textblob_dict['Number of words'] = len(list(blob.words))\n",
    "    \n",
    "    ## Language of the sentence\n",
    "    textblob_dict['Language Detected'] = blob.detect_language()\n",
    "    \n",
    "    return textblob_dict"
   ]
  },
  {
   "cell_type": "code",
   "execution_count": null,
   "metadata": {},
   "outputs": [],
   "source": []
  }
 ],
 "metadata": {
  "kernelspec": {
   "display_name": "Python 3",
   "language": "python",
   "name": "python3"
  },
  "language_info": {
   "codemirror_mode": {
    "name": "ipython",
    "version": 3
   },
   "file_extension": ".py",
   "mimetype": "text/x-python",
   "name": "python",
   "nbconvert_exporter": "python",
   "pygments_lexer": "ipython3",
   "version": "3.6.6"
  }
 },
 "nbformat": 4,
 "nbformat_minor": 2
}
