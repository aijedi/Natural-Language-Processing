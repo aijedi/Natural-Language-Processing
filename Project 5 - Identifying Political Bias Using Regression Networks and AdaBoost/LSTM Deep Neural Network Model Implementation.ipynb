{
 "cells": [
  {
   "cell_type": "code",
   "execution_count": 1,
   "metadata": {},
   "outputs": [],
   "source": [
    "import pandas as pd\n",
    "import numpy as np\n",
    "import os"
   ]
  },
  {
   "cell_type": "code",
   "execution_count": 8,
   "metadata": {
    "scrolled": true
   },
   "outputs": [],
   "source": [
    "df = pd.read_csv('data/consolidated_articles_v2.csv')"
   ]
  },
  {
   "cell_type": "code",
   "execution_count": 5,
   "metadata": {},
   "outputs": [
    {
     "data": {
      "text/html": [
       "<div>\n",
       "<style scoped>\n",
       "    .dataframe tbody tr th:only-of-type {\n",
       "        vertical-align: middle;\n",
       "    }\n",
       "\n",
       "    .dataframe tbody tr th {\n",
       "        vertical-align: top;\n",
       "    }\n",
       "\n",
       "    .dataframe thead th {\n",
       "        text-align: right;\n",
       "    }\n",
       "</style>\n",
       "<table border=\"1\" class=\"dataframe\">\n",
       "  <thead>\n",
       "    <tr style=\"text-align: right;\">\n",
       "      <th></th>\n",
       "      <th>Unnamed: 0</th>\n",
       "      <th>Extracted Article</th>\n",
       "      <th>Bias</th>\n",
       "    </tr>\n",
       "  </thead>\n",
       "  <tbody>\n",
       "    <tr>\n",
       "      <th>0</th>\n",
       "      <td>0</td>\n",
       "      <td>U.S. cyber operators disrupted internet access...</td>\n",
       "      <td>-5.33</td>\n",
       "    </tr>\n",
       "    <tr>\n",
       "      <th>1</th>\n",
       "      <td>1</td>\n",
       "      <td>A federal appeals court rejected the most dire...</td>\n",
       "      <td>0.67</td>\n",
       "    </tr>\n",
       "    <tr>\n",
       "      <th>2</th>\n",
       "      <td>2</td>\n",
       "      <td>U.S Senator Elizabeth Warren, who is competing...</td>\n",
       "      <td>-10.00</td>\n",
       "    </tr>\n",
       "    <tr>\n",
       "      <th>3</th>\n",
       "      <td>3</td>\n",
       "      <td>announced Tuesday that it will block landlords...</td>\n",
       "      <td>-2.33</td>\n",
       "    </tr>\n",
       "    <tr>\n",
       "      <th>4</th>\n",
       "      <td>4</td>\n",
       "      <td>President Donald Trump and \"the Trump of the T...</td>\n",
       "      <td>-4.33</td>\n",
       "    </tr>\n",
       "  </tbody>\n",
       "</table>\n",
       "</div>"
      ],
      "text/plain": [
       "   Unnamed: 0                                  Extracted Article   Bias\n",
       "0           0  U.S. cyber operators disrupted internet access...  -5.33\n",
       "1           1  A federal appeals court rejected the most dire...   0.67\n",
       "2           2  U.S Senator Elizabeth Warren, who is competing... -10.00\n",
       "3           3  announced Tuesday that it will block landlords...  -2.33\n",
       "4           4  President Donald Trump and \"the Trump of the T...  -4.33"
      ]
     },
     "execution_count": 5,
     "metadata": {},
     "output_type": "execute_result"
    }
   ],
   "source": [
    "df.head()"
   ]
  },
  {
   "cell_type": "code",
   "execution_count": 10,
   "metadata": {},
   "outputs": [
    {
     "name": "stderr",
     "output_type": "stream",
     "text": [
      "[nltk_data] Downloading package stopwords to\n",
      "[nltk_data]     C:\\Users\\TanushPasupuleti\\AppData\\Roaming\\nltk_data...\n",
      "[nltk_data]   Unzipping corpora\\stopwords.zip.\n"
     ]
    }
   ],
   "source": [
    "import nltk\n",
    "#nltk.download('stopwords')\n",
    "from text_utils.text_processing import process_text"
   ]
  },
  {
   "cell_type": "code",
   "execution_count": 15,
   "metadata": {
    "scrolled": true
   },
   "outputs": [],
   "source": [
    "import nltk\n",
    "#nltk.download('punkt')\n",
    "#nltk.download('wordnet')\n",
    "\n",
    "df['Processed Sentence'] = df['Extracted Article'].apply(lambda x: process_text(x))"
   ]
  },
  {
   "cell_type": "code",
   "execution_count": 16,
   "metadata": {},
   "outputs": [
    {
     "name": "stdout",
     "output_type": "stream",
     "text": [
      "<class 'pandas.core.frame.DataFrame'>\n",
      "RangeIndex: 135322 entries, 0 to 135321\n",
      "Data columns (total 4 columns):\n",
      "Unnamed: 0            135322 non-null int64\n",
      "Extracted Article     135322 non-null object\n",
      "Bias                  135322 non-null float64\n",
      "Processed Sentence    135322 non-null object\n",
      "dtypes: float64(1), int64(1), object(2)\n",
      "memory usage: 4.1+ MB\n"
     ]
    }
   ],
   "source": [
    "df.info()"
   ]
  },
  {
   "cell_type": "code",
   "execution_count": 17,
   "metadata": {
    "scrolled": true
   },
   "outputs": [
    {
     "data": {
      "text/plain": [
       "'handful democratic candidate president released least 10 year federal tax return effort promote transparency create contrast president donald trump s refused release return candidate president interested 2020 election add 2020 election interest stay date latest 2020 election news video analysis abc news add interest notable takeaway new financial data sen bernie sander vermont kamala harris california elizabeth warren massachusetts kirsten gillibrand new york amy klobuchar minnesota washington gov jay inslee former texas rep beto o rourke re earning one apparent takeaway candidate tax document much re making year candidate reported making 200 000 filed jointly spouse adjusted gross income 2018 putting substantially average american s earnings ranging harris 1 9 million warren 846 394 inslee 202 912 seven 2020 candidate release return least three millionaire sander warren harris sander famous campaign unjust power richest 1 reported adjusted gross income 1 06 million 2016 1 13 million 2017 bump income year four time income year earlier bestselling 2016 book revolution senator joked release return someone else wrote bestselling book could millionaire later said grateful financial success marked sharp contrast upbringing paycheck to paycheck household warren s also made anti corruption key focus campaign also part 1 document show adjusted gross income 2018 filing jointly husband exceeded 846 000 2013 2015 adjusted gross income 1 million neared 1 55 million 2014 first book released harris reported highest 2018 gross income 1 89 million husband attorney married 2014 earned income 2018 harris reported 157 000 senate salary 320 125 profit book authored ahead campaign announcement gillibrand reported 214 083 adjusted gross income 2018 klobuchar reported 338 121 o rourke yet submit 2018 return reported 366 455 2017 karen pulfer focht reuters much giving charity generous candidate 2018 according candidate tax return warren husband gave 50 128 charity almost 6 household adjusted gross income year next inslee donated 4 wife s income 8 300 comparison american similar adjusted gross income warren donated twice average percentage 2 7 income 500 000 1 million latest irs figure show inslee reported earning nearly 203 000 2018 donated one half time average percentage someone income sander wife gave 3 3 income charity past two year gave 18 950 2018 36 300 2017 couple also donated proceeds one senator s book speech though donation appear tax return according campaign donation gone primarily senior center low income organization educational entity environmental housing advocacy group campaign said sander donated average similar income according irs figure klobuchar gillibrand donated 2 adjusted gross income 2018 coming nearly 6 600 klobuchar 3 750 gillibrand klobuchar gillibrand s donation also match average percentage people income level donate irs figure show o rourke appeared give smallest percentage family s income charity 2017 total 1 166 0 3 fall average percent donated someone income level harris husband donated 27 000 1 4 le half average similar adjusted gross income according irs data average earn 1 5 million 2 million donate around 3 4 income charity latest irs figure show roughly half charitable donation come household annual income least 100 000 irs figure show percentage n t usually skyrocket wealth increase example average donation income bracket 500 000 1 million 2 average donation earn least 10 20 time money 10 million year around 10 4 thing s really shocking income go people s propensity give n t grow proportionally said len burman co founder tax policy project burman tracked donation candidate 2012 election found like former president barack obama candidate mitt romney gave around 14 income charity candidate like newt gingrich gave around 2 6 re well probably obligation share people needy burman said charitable donation tracked candidate release return tradition continued since former president richard nixon office point none information often scrutinized required provided law biggest complaint voter return whether candidate charitable enough victory candidate tony nitti cpa partner rubin brown llp told abc news fact transparency allows u go exercise know s nothing worry nitti said mark makela getty image much income paid tax democrat released return appear paying fair share tax given income said chris edward director tax policy study right leaning cato institute none folk seemingly cheating getting away anything told abc news reviewing return made public campaign harris husband earning 1 9 million paid effective tax rate 37 highest among candidate ve disclosed return gillibrand reported earning 214 083 effective tax rate 14 according return sander released 10 year return monday effective federal tax rate 26 2018 paying 145 840 federal tax adjusted gross income 561 293 warren adjusted gross income 846 394 2018 paid 27 adjusted gross income 366 455 2017 o rourke effective tax rate 22 klobuchar 2018 adjusted gross income 338 121 inslee 2018 adjusted gross income 202 912 round list lowest tax rate 19 15 respectively often complaint rich people able take lot loophole edward said referencing billionaire warren buffett s often cited comment pay lower tax rate secretary none candidate seem lucky warren buffett paying tax rate high people similar income little known president s return new york time reported last year president sibling allegedly used fake corporation hide money received parent avoid paying ten million dollar tax white house called time report misleading attack trump family claimed irs signed transaction detailed report charlie neibergall ap keep mind democrat well president yet release return five candidate released year tax return among nearly 20 democrat seeking white house 2020 yet president refused release white house vow likely wo n t former florida gov jeb bush set record tax information released presidential candidate 2016 disclosing 33 year return early disclosure year away election significant represent shift democratic party joe thorndike director tax history project told abc news n t take rocket scientist figure said abc news kendall karson contributed report '"
      ]
     },
     "execution_count": 17,
     "metadata": {},
     "output_type": "execute_result"
    }
   ],
   "source": [
    "df['Processed Sentence'].iloc[10]"
   ]
  },
  {
   "cell_type": "code",
   "execution_count": 21,
   "metadata": {},
   "outputs": [],
   "source": [
    "def allocate_bias_sentiment(bias):\n",
    "    if (bias>=0):\n",
    "        return 'positive bias'\n",
    "    elif (bias<0):\n",
    "        return 'negative bias'\n",
    "    else:\n",
    "        return 'no bias'"
   ]
  },
  {
   "cell_type": "code",
   "execution_count": 22,
   "metadata": {},
   "outputs": [],
   "source": [
    "df['Bias Sentiment'] = df['Bias'].map(lambda x: allocate_bias_sentiment(x))"
   ]
  },
  {
   "cell_type": "code",
   "execution_count": 23,
   "metadata": {},
   "outputs": [
    {
     "data": {
      "text/plain": [
       "negative bias    73572\n",
       "positive bias    61750\n",
       "Name: Bias Sentiment, dtype: int64"
      ]
     },
     "execution_count": 23,
     "metadata": {},
     "output_type": "execute_result"
    }
   ],
   "source": [
    "df['Bias Sentiment'].value_counts()"
   ]
  },
  {
   "cell_type": "code",
   "execution_count": 42,
   "metadata": {},
   "outputs": [],
   "source": [
    "class_weight = { 0: 1,\n",
    "                1: 1.20}"
   ]
  },
  {
   "cell_type": "markdown",
   "metadata": {},
   "source": [
    "### LSTM Modeling\n",
    "1. Vectorize consumer complaints text, by turning each text into either a sequence of integers or into a vector.\n",
    "2. Limit the data set to the top 5,0000 words.\n",
    "\n",
    "3. Set the max number of words in each complaint at 250."
   ]
  },
  {
   "cell_type": "code",
   "execution_count": 29,
   "metadata": {},
   "outputs": [],
   "source": [
    "#!pip install keras\n",
    "#!pip install tensorflow"
   ]
  },
  {
   "cell_type": "code",
   "execution_count": 30,
   "metadata": {
    "scrolled": true
   },
   "outputs": [
    {
     "name": "stderr",
     "output_type": "stream",
     "text": [
      "Using TensorFlow backend.\n"
     ]
    },
    {
     "name": "stdout",
     "output_type": "stream",
     "text": [
      "Found 280954 unique tokens.\n"
     ]
    }
   ],
   "source": [
    "from keras.preprocessing.text import Tokenizer\n",
    "import warnings\n",
    "warnings.filterwarnings('ignore')\n",
    "\n",
    "# The maximum number of words to be used. (most frequent)\n",
    "MAX_NB_WORDS = 50000\n",
    "# Max number of words in each complaint.\n",
    "MAX_SEQUENCE_LENGTH = 250\n",
    "# This is fixed.\n",
    "EMBEDDING_DIM = 100\n",
    "tokenizer = Tokenizer(num_words=MAX_NB_WORDS, filters='!\"#$%&()*+,-./:;<=>?@[\\]^_`{|}~', lower=True)\n",
    "tokenizer.fit_on_texts(df['Processed Sentence'].values)\n",
    "word_index = tokenizer.word_index\n",
    "print('Found %s unique tokens.' % len(word_index))"
   ]
  },
  {
   "cell_type": "code",
   "execution_count": 31,
   "metadata": {},
   "outputs": [],
   "source": [
    "import pickle\n",
    "\n",
    "# saving\n",
    "with open('tokenizer.pickle', 'wb') as handle:\n",
    "    pickle.dump(tokenizer, handle, protocol=pickle.HIGHEST_PROTOCOL)\n",
    "\n",
    "# loading\n",
    "with open('tokenizer.pickle', 'rb') as handle:\n",
    "    tokenizer = pickle.load(handle)"
   ]
  },
  {
   "cell_type": "markdown",
   "metadata": {},
   "source": [
    "Truncate and pad the input sequences so that they are all in the same length for modeling."
   ]
  },
  {
   "cell_type": "code",
   "execution_count": 32,
   "metadata": {},
   "outputs": [
    {
     "name": "stdout",
     "output_type": "stream",
     "text": [
      "Shape of data tensor: (135322, 250)\n"
     ]
    }
   ],
   "source": [
    "from keras.preprocessing.sequence import pad_sequences\n",
    "\n",
    "X = tokenizer.texts_to_sequences(df['Processed Sentence'].values)\n",
    "X = pad_sequences(X, maxlen=MAX_SEQUENCE_LENGTH)\n",
    "print('Shape of data tensor:', X.shape)"
   ]
  },
  {
   "cell_type": "markdown",
   "metadata": {},
   "source": [
    "Converting categorical labels to numbers."
   ]
  },
  {
   "cell_type": "code",
   "execution_count": 33,
   "metadata": {},
   "outputs": [
    {
     "name": "stdout",
     "output_type": "stream",
     "text": [
      "Shape of label tensor: (135322, 2)\n"
     ]
    }
   ],
   "source": [
    "Y = pd.get_dummies(df['Bias Sentiment']).values\n",
    "print('Shape of label tensor:', Y.shape)"
   ]
  },
  {
   "cell_type": "markdown",
   "metadata": {},
   "source": [
    "Train test split."
   ]
  },
  {
   "cell_type": "code",
   "execution_count": 34,
   "metadata": {},
   "outputs": [
    {
     "name": "stdout",
     "output_type": "stream",
     "text": [
      "(121789, 250) (121789, 2)\n",
      "(13533, 250) (13533, 2)\n"
     ]
    }
   ],
   "source": [
    "from sklearn.model_selection import train_test_split\n",
    "\n",
    "X_train, X_test, Y_train, Y_test = train_test_split(X,Y, test_size = 0.10, random_state = 42)\n",
    "print(X_train.shape,Y_train.shape)\n",
    "print(X_test.shape,Y_test.shape)"
   ]
  },
  {
   "cell_type": "markdown",
   "metadata": {},
   "source": [
    "1. The first layer is the embedded layer that uses 100 length vectors to represent each word.\n",
    "2. SpatialDropout1D performs variational dropout in NLP models.\n",
    "3. The next layer is the LSTM layer with 100 memory units.\n",
    "4. The output layer must create 13 output values, one for each class.\n",
    "5. Activation function is softmax for multi-class classification.\n",
    "6. Because it is a multi-class classification problem, categorical_crossentropy is used as the loss function"
   ]
  },
  {
   "cell_type": "code",
   "execution_count": 38,
   "metadata": {},
   "outputs": [
    {
     "name": "stdout",
     "output_type": "stream",
     "text": [
      "Model: \"sequential_2\"\n",
      "_________________________________________________________________\n",
      "Layer (type)                 Output Shape              Param #   \n",
      "=================================================================\n",
      "embedding_2 (Embedding)      (None, 250, 100)          5000000   \n",
      "_________________________________________________________________\n",
      "spatial_dropout1d_2 (Spatial (None, 250, 100)          0         \n",
      "_________________________________________________________________\n",
      "lstm_2 (LSTM)                (None, 100)               80400     \n",
      "_________________________________________________________________\n",
      "dense_2 (Dense)              (None, 2)                 202       \n",
      "=================================================================\n",
      "Total params: 5,080,602\n",
      "Trainable params: 5,080,602\n",
      "Non-trainable params: 0\n",
      "_________________________________________________________________\n",
      "None\n"
     ]
    }
   ],
   "source": [
    "from keras.models import Sequential\n",
    "from keras.layers import Dense, Embedding, LSTM, SpatialDropout1D\n",
    "\n",
    "model = Sequential()\n",
    "model.add(Embedding(MAX_NB_WORDS, EMBEDDING_DIM, input_length=X.shape[1]))\n",
    "model.add(SpatialDropout1D(0.2))\n",
    "model.add(LSTM(100, dropout=0.2, recurrent_dropout=0.2))\n",
    "model.add(Dense(2, activation='softmax'))\n",
    "model.compile(loss='categorical_crossentropy', optimizer='adam', metrics=['accuracy'])\n",
    "print(model.summary())"
   ]
  },
  {
   "cell_type": "code",
   "execution_count": 39,
   "metadata": {},
   "outputs": [
    {
     "name": "stdout",
     "output_type": "stream",
     "text": [
      "Model: \"sequential_2\"\n",
      "_________________________________________________________________\n",
      "Layer (type)                 Output Shape              Param #   \n",
      "=================================================================\n",
      "embedding_2 (Embedding)      (None, 250, 100)          5000000   \n",
      "_________________________________________________________________\n",
      "spatial_dropout1d_2 (Spatial (None, 250, 100)          0         \n",
      "_________________________________________________________________\n",
      "lstm_2 (LSTM)                (None, 100)               80400     \n",
      "_________________________________________________________________\n",
      "dense_2 (Dense)              (None, 2)                 202       \n",
      "=================================================================\n",
      "Total params: 5,080,602\n",
      "Trainable params: 5,080,602\n",
      "Non-trainable params: 0\n",
      "_________________________________________________________________\n"
     ]
    }
   ],
   "source": [
    "from keras.callbacks import ModelCheckpoint, ReduceLROnPlateau, EarlyStopping\n",
    "\n",
    "model.summary()\n",
    "\n",
    "earlyStopping = EarlyStopping(monitor='val_loss', patience=10, verbose=0, mode='min')\n",
    "mcp_save = ModelCheckpoint('models/weights_{epoch:02d}-{val_loss:.2f}-{val_accuracy:.2f}.hdf5', save_best_only=True, monitor='val_loss', mode='min')\n",
    "reduce_lr_loss = ReduceLROnPlateau(monitor='val_loss', factor=0.1, patience=7, verbose=1, epsilon=1e-4, mode='min')"
   ]
  },
  {
   "cell_type": "code",
   "execution_count": 43,
   "metadata": {
    "scrolled": true
   },
   "outputs": [
    {
     "name": "stdout",
     "output_type": "stream",
     "text": [
      "Train on 109610 samples, validate on 12179 samples\n",
      "Epoch 1/1000\n",
      "109610/109610 [==============================] - 960s 9ms/step - loss: 0.5354 - accuracy: 0.7435 - val_loss: 0.4741 - val_accuracy: 0.7863\n",
      "Epoch 2/1000\n",
      "109610/109610 [==============================] - 961s 9ms/step - loss: 0.4173 - accuracy: 0.8223 - val_loss: 0.4527 - val_accuracy: 0.8014\n",
      "Epoch 3/1000\n",
      "109610/109610 [==============================] - 929s 8ms/step - loss: 0.3499 - accuracy: 0.8563 - val_loss: 0.4261 - val_accuracy: 0.8231\n",
      "Epoch 4/1000\n",
      "109610/109610 [==============================] - 931s 8ms/step - loss: 0.2673 - accuracy: 0.8958 - val_loss: 0.4300 - val_accuracy: 0.8309\n",
      "Epoch 5/1000\n",
      "109610/109610 [==============================] - 923s 8ms/step - loss: 0.2200 - accuracy: 0.9164 - val_loss: 0.4670 - val_accuracy: 0.8252\n",
      "Epoch 6/1000\n",
      "109610/109610 [==============================] - 923s 8ms/step - loss: 0.1546 - accuracy: 0.9452 - val_loss: 0.5253 - val_accuracy: 0.8295\n",
      "Epoch 7/1000\n",
      "109610/109610 [==============================] - 927s 8ms/step - loss: 0.1115 - accuracy: 0.9619 - val_loss: 0.6282 - val_accuracy: 0.8274\n",
      "Epoch 8/1000\n",
      "109610/109610 [==============================] - 1519s 14ms/step - loss: 0.0783 - accuracy: 0.9743 - val_loss: 0.7614 - val_accuracy: 0.8245\n",
      "Epoch 9/1000\n",
      "109610/109610 [==============================] - 1192s 11ms/step - loss: 0.0564 - accuracy: 0.9814 - val_loss: 0.7974 - val_accuracy: 0.8270\n",
      "Epoch 10/1000\n",
      "109610/109610 [==============================] - 1092s 10ms/step - loss: 0.0414 - accuracy: 0.9868 - val_loss: 0.9433 - val_accuracy: 0.8250\n",
      "\n",
      "Epoch 00010: ReduceLROnPlateau reducing learning rate to 0.00010000000474974513.\n",
      "Epoch 11/1000\n",
      "109610/109610 [==============================] - 928s 8ms/step - loss: 0.0214 - accuracy: 0.9938 - val_loss: 1.0409 - val_accuracy: 0.8267\n",
      "Epoch 12/1000\n",
      "109610/109610 [==============================] - 990s 9ms/step - loss: 0.0161 - accuracy: 0.9956 - val_loss: 1.1125 - val_accuracy: 0.8264\n",
      "Epoch 13/1000\n",
      "109610/109610 [==============================] - 1137s 10ms/step - loss: 0.0131 - accuracy: 0.9965 - val_loss: 1.1558 - val_accuracy: 0.8263\n"
     ]
    }
   ],
   "source": [
    "from keras.callbacks import EarlyStopping\n",
    "\n",
    "epochs = 1000\n",
    "batch_size = 64\n",
    "\n",
    "history = model.fit(X_train, Y_train, class_weight=class_weight, epochs=epochs, batch_size=batch_size,validation_split=0.1,callbacks=[earlyStopping, mcp_save, reduce_lr_loss])"
   ]
  },
  {
   "cell_type": "code",
   "execution_count": 44,
   "metadata": {},
   "outputs": [
    {
     "name": "stdout",
     "output_type": "stream",
     "text": [
      "13533/13533 [==============================] - 30s 2ms/step\n",
      "Test set\n",
      "  Loss: 1.059\n",
      "  Accuracy: 0.819\n"
     ]
    }
   ],
   "source": [
    "accr = model.evaluate(X_test,Y_test)\n",
    "print('Test set\\n  Loss: {:0.3f}\\n  Accuracy: {:0.3f}'.format(accr[0],accr[1]))"
   ]
  },
  {
   "cell_type": "code",
   "execution_count": 45,
   "metadata": {},
   "outputs": [
    {
     "data": {
      "text/plain": [
       "<Figure size 640x480 with 1 Axes>"
      ]
     },
     "metadata": {},
     "output_type": "display_data"
    }
   ],
   "source": [
    "import matplotlib.pyplot as plt \n",
    "\n",
    "plt.title('Loss')\n",
    "plt.plot(history.history['loss'], label='train')\n",
    "plt.plot(history.history['val_loss'], label='test')\n",
    "plt.legend()\n",
    "plt.show()"
   ]
  },
  {
   "cell_type": "code",
   "execution_count": 46,
   "metadata": {},
   "outputs": [
    {
     "data": {
      "image/png": "[encoded data removed]",
      "text/plain": [
       "<Figure size 432x288 with 1 Axes>"
      ]
     },
     "metadata": {
      "needs_background": "light"
     },
     "output_type": "display_data"
    }
   ],
   "source": [
    "plt.title('Accuracy')\n",
    "plt.plot(history.history['accuracy'], label='train')\n",
    "plt.plot(history.history['val_accuracy'], label='test')\n",
    "plt.legend()\n",
    "plt.show();"
   ]
  },
  {
   "cell_type": "markdown",
   "metadata": {},
   "source": [
    "The plots suggest that the model has a little over fitting problem, more data may help, but more epochs will not help using the current data."
   ]
  },
  {
   "cell_type": "code",
   "execution_count": 47,
   "metadata": {},
   "outputs": [],
   "source": [
    "new_complaint = [\"Trump's policy of immigration is excellent and admirable\"]\n",
    "seq = tokenizer.texts_to_sequences(new_complaint)\n",
    "padded = pad_sequences(seq, maxlen=MAX_SEQUENCE_LENGTH)\n",
    "pred = model.predict(padded)"
   ]
  },
  {
   "cell_type": "code",
   "execution_count": 48,
   "metadata": {},
   "outputs": [
    {
     "data": {
      "text/plain": [
       "array([[0.07616071, 0.9238392 ]], dtype=float32)"
      ]
     },
     "execution_count": 48,
     "metadata": {},
     "output_type": "execute_result"
    }
   ],
   "source": [
    "pred"
   ]
  },
  {
   "cell_type": "code",
   "execution_count": 49,
   "metadata": {},
   "outputs": [
    {
     "data": {
      "text/plain": [
       "array([1], dtype=int64)"
      ]
     },
     "execution_count": 49,
     "metadata": {},
     "output_type": "execute_result"
    }
   ],
   "source": [
    "model.predict_classes(padded)"
   ]
  },
  {
   "cell_type": "code",
   "execution_count": 50,
   "metadata": {},
   "outputs": [],
   "source": [
    "from keras.models import load_model\n",
    "\n",
    "model.save('final_model_loss_0.88_acc_0.82.h5')  # creates a HDF5 file 'my_model.h5'"
   ]
  },
  {
   "cell_type": "code",
   "execution_count": 51,
   "metadata": {},
   "outputs": [],
   "source": [
    "model = load_model('final_model_loss_0.88_acc_0.82.h5')"
   ]
  },
  {
   "cell_type": "code",
   "execution_count": null,
   "metadata": {},
   "outputs": [],
   "source": []
  }
 ],
 "metadata": {
  "kernelspec": {
   "display_name": "Python 3",
   "language": "python",
   "name": "python3"
  },
  "language_info": {
   "codemirror_mode": {
    "name": "ipython",
    "version": 3
   },
   "file_extension": ".py",
   "mimetype": "text/x-python",
   "name": "python",
   "nbconvert_exporter": "python",
   "pygments_lexer": "ipython3",
   "version": "3.7.3"
  }
 },
 "nbformat": 4,
 "nbformat_minor": 2
}
