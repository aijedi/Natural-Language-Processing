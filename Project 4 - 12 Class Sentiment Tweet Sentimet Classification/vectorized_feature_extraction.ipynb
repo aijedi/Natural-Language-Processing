{
 "cells": [
  {
   "cell_type": "code",
   "execution_count": 1,
   "metadata": {},
   "outputs": [],
   "source": [
    "from gensim.test.utils import common_texts\n",
    "from gensim.models.doc2vec import Doc2Vec, TaggedDocument, Word2VecKeyedVectors\n",
    "from gensim.models import Word2Vec\n",
    "from gensim.models.word2vec import Word2VecKeyedVectors\n",
    "word2vecModel = Word2VecKeyedVectors.load_word2vec_format('models/GoogleNews-vectors-negative300.bin',binary=True)\n",
    "\n",
    "def word_to_vec_generation(sent):\n",
    "    word_to_vec_value = 0\n",
    "    for word in sent.split(' '):\n",
    "        try:\n",
    "            word_to_vec_value += word2vecModel.word_vec(word)\n",
    "        except:\n",
    "            pass\n",
    "        \n",
    "    return word_to_vec_value"
   ]
  },
  {
   "cell_type": "markdown",
   "metadata": {},
   "source": [
    "You can also download Google’s pre-trained KeyedVectors instance from https://drive.google.com/file/d/0B7XkCwpI5KDYNlNUTTlSS21pQmM/edit?usp=sharing"
   ]
  }
 ],
 "metadata": {
  "kernelspec": {
   "display_name": "Python 3",
   "language": "python",
   "name": "python3"
  },
  "language_info": {
   "codemirror_mode": {
    "name": "ipython",
    "version": 3
   },
   "file_extension": ".py",
   "mimetype": "text/x-python",
   "name": "python",
   "nbconvert_exporter": "python",
   "pygments_lexer": "ipython3",
   "version": "3.6.6"
  }
 },
 "nbformat": 4,
 "nbformat_minor": 2
}
