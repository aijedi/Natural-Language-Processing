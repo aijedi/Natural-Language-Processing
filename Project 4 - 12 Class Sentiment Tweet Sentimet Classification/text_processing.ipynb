{
 "cells": [
  {
   "cell_type": "markdown",
   "metadata": {},
   "source": [
    "### 1. Text Preprocessing\n",
    "#### 1.1. Remove Stop Words and Punctuation"
   ]
  },
  {
   "cell_type": "code",
   "execution_count": 1,
   "metadata": {},
   "outputs": [],
   "source": [
    "import nltk\n",
    "from nltk.corpus import stopwords\n",
    "from nltk.tokenize import word_tokenize "
   ]
  },
  {
   "cell_type": "code",
   "execution_count": 2,
   "metadata": {},
   "outputs": [],
   "source": [
    "stop_words = set(stopwords.words('english')) "
   ]
  },
  {
   "cell_type": "code",
   "execution_count": 3,
   "metadata": {},
   "outputs": [],
   "source": [
    "def convert_list_to_string(s): \n",
    "  \n",
    "    # initialization of string to \"\" \n",
    "    new = \"\" \n",
    "  \n",
    "    # traverse in the string  \n",
    "    for x in s: \n",
    "        new += x +' ' \n",
    "  \n",
    "    # return string  \n",
    "    return new.lower() # converting string to lowercase"
   ]
  },
  {
   "cell_type": "code",
   "execution_count": 4,
   "metadata": {},
   "outputs": [],
   "source": [
    "def remove_tags(sent):\n",
    "    \n",
    "    sentence_list =sent.split(' ')\n",
    "    for word in sentence_list:\n",
    "        if ('@' in word):\n",
    "            sentence_list.remove(word)\n",
    "    return convert_list_to_string(sentence_list)"
   ]
  },
  {
   "cell_type": "code",
   "execution_count": 5,
   "metadata": {},
   "outputs": [],
   "source": [
    "def remove_stopwords(sentence):\n",
    "\n",
    "    word_tokens = word_tokenize(sentence) \n",
    "\n",
    "    filtered_sentence = [w for w in word_tokens if not w in stop_words] \n",
    "\n",
    "    filtered_sentence = [] \n",
    "\n",
    "    for w in word_tokens: \n",
    "        if w not in stop_words: \n",
    "            filtered_sentence.append(w) \n",
    "            \n",
    "    return convert_list_to_string(filtered_sentence)"
   ]
  },
  {
   "cell_type": "code",
   "execution_count": 6,
   "metadata": {},
   "outputs": [],
   "source": [
    "from nltk.tokenize import RegexpTokenizer\n",
    "\n",
    "def remove_tokens(sentence):\n",
    "\n",
    "    tokenizer = RegexpTokenizer(r'\\w+')\n",
    "    return convert_list_to_string(tokenizer.tokenize(sentence))"
   ]
  },
  {
   "cell_type": "code",
   "execution_count": 7,
   "metadata": {},
   "outputs": [],
   "source": [
    "import pandas as pd\n",
    "\n",
    "#extract lemma\n",
    "def extract_lemma(sent):\n",
    "    parsed_text = {'word':[], 'lemma':[]}\n",
    "    #for sent in doc.sentences:\n",
    "    for wrd in sent:\n",
    "        #extract text and lemma\n",
    "        parsed_text['word'].append(wrd.text)\n",
    "        parsed_text['lemma'].append(wrd.lemma)\n",
    "    #return a dataframe\n",
    "    return pd.DataFrame(parsed_text)"
   ]
  },
  {
   "cell_type": "code",
   "execution_count": 8,
   "metadata": {},
   "outputs": [],
   "source": [
    "from nltk.stem import WordNetLemmatizer \n",
    "  \n",
    "def extract_lemma(sent):\n",
    "    lemmatizer = WordNetLemmatizer() \n",
    "    word_tokens = word_tokenize(sent) \n",
    "    \n",
    "    lemmatized_sentence = []\n",
    "    for word in word_tokens:\n",
    "        lemmatized_sentence.append(lemmatizer.lemmatize(word))\n",
    "    \n",
    "    return convert_list_to_string(lemmatized_sentence)"
   ]
  },
  {
   "cell_type": "markdown",
   "metadata": {},
   "source": [
    "#### 1.2. Driver Function to Process text"
   ]
  },
  {
   "cell_type": "code",
   "execution_count": 9,
   "metadata": {},
   "outputs": [],
   "source": [
    "def process_text(sentence):\n",
    "    return extract_lemma(remove_tokens(remove_stopwords(remove_tags(sentence))))"
   ]
  }
 ],
 "metadata": {
  "kernelspec": {
   "display_name": "Python 3",
   "language": "python",
   "name": "python3"
  },
  "language_info": {
   "codemirror_mode": {
    "name": "ipython",
    "version": 3
   },
   "file_extension": ".py",
   "mimetype": "text/x-python",
   "name": "python",
   "nbconvert_exporter": "python",
   "pygments_lexer": "ipython3",
   "version": "3.6.6"
  }
 },
 "nbformat": 4,
 "nbformat_minor": 2
}
